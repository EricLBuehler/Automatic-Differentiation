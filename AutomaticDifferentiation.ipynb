{
 "cells": [
  {
   "cell_type": "markdown",
   "metadata": {},
   "source": [
    "# Automatic Differentiation\n",
    "\n",
    "This is companion to the medium article on automatic differentiation"
   ]
  },
  {
   "cell_type": "markdown",
   "metadata": {},
   "source": [
    "## Define the computational graph"
   ]
  },
  {
   "cell_type": "code",
   "execution_count": 30,
   "metadata": {},
   "outputs": [],
   "source": [
    "import numpy as np\n",
    "\n",
    "class Graph():\n",
    "    \"\"\" Computational graph class. \n",
    "    Initilizes a global variable _g that describes the graph.\n",
    "    Each graph consists of a set of\n",
    "        1. operators\n",
    "        2. variables\n",
    "        3. constants\n",
    "        4. placeholders\n",
    "    \"\"\"\n",
    "    def __init__(self):\n",
    "        self.operators = set()\n",
    "        self.constants = set()\n",
    "        self.variables = set()\n",
    "        self.placeholders = set()\n",
    "        global _g\n",
    "        _g = self\n",
    "        \n",
    "    def reset_counts(self, root):\n",
    "        if hasattr(root, 'count'):\n",
    "            root.count = 0\n",
    "        else:\n",
    "            for child in root.__subclasses__():\n",
    "                self.reset_counts(child)\n",
    "\n",
    "    def reset_session(self):\n",
    "        try:\n",
    "            del _g\n",
    "        except:\n",
    "            pass\n",
    "        self.reset_counts(Node)\n",
    "        \n",
    "    def __enter__(self):\n",
    "        return self\n",
    "    \n",
    "    def __exit__(self, exc_type, exc_value, traceback):\n",
    "        self.reset_session()"
   ]
  },
  {
   "cell_type": "markdown",
   "metadata": {},
   "source": [
    "## Define the graph nodes. \n",
    "\n",
    "The operator node is virtual, it is never called. Only subclasses of it containing actual operations should ever be called."
   ]
  },
  {
   "cell_type": "markdown",
   "metadata": {},
   "source": [
    "### Make a basic Node class to inherit from\n",
    "\n",
    "This won't do anything other than allow us to check if in object is a Graph node or not"
   ]
  },
  {
   "cell_type": "code",
   "execution_count": 31,
   "metadata": {},
   "outputs": [],
   "source": [
    "class Node:\n",
    "    def __init__(self):\n",
    "        pass"
   ]
  },
  {
   "cell_type": "markdown",
   "metadata": {},
   "source": [
    "### Define Variables, Constants, Placeholders, and Operators"
   ]
  },
  {
   "cell_type": "markdown",
   "metadata": {},
   "source": [
    "#### Placeholders"
   ]
  },
  {
   "cell_type": "code",
   "execution_count": 32,
   "metadata": {},
   "outputs": [],
   "source": [
    "class Placeholder(Node):\n",
    "    \"\"\"An placeholder node in the computational graph. This holds\n",
    "    a node, and awaits further input at computation time.\n",
    "    Args: \n",
    "        name: defaults to \"Plc/\"+count\n",
    "        dtype: the type that the node holds, float, int, etc.\n",
    "    \"\"\"\n",
    "    count = 0\n",
    "    def __init__(self, name, dtype=float):\n",
    "        _g.placeholders.add(self)\n",
    "        self.value = None\n",
    "        self.gradient = None\n",
    "        self.name = f\"Plc/{Placeholder.count}\" if name is None else name\n",
    "        Placeholder.count += 1\n",
    "        \n",
    "    def __repr__(self):\n",
    "        return f\"Placeholder: name:{self.name}, value:{self.value}\""
   ]
  },
  {
   "cell_type": "markdown",
   "metadata": {},
   "source": [
    "#### Constants"
   ]
  },
  {
   "cell_type": "code",
   "execution_count": 33,
   "metadata": {},
   "outputs": [],
   "source": [
    "class Constant(Node):\n",
    "    \"\"\"An constant node in the computational graph.\n",
    "    Args: \n",
    "        name: defaults to \"const/\"+count\n",
    "        value: a property protected value that prevents user \n",
    "               from reassigning value\n",
    "    \"\"\"\n",
    "    count = 0\n",
    "    def __init__(self, value, name=None):\n",
    "        _g.constants.add(self)\n",
    "        self._value = value\n",
    "        self.gradient = None\n",
    "        self.name = f\"Const/{Constant.count}\" if name is None else name\n",
    "        Constant.count += 1\n",
    "        \n",
    "    def __repr__(self):\n",
    "        return f\"Constant: name:{self.name}, value:{self.value}\"\n",
    "    \n",
    "    @property\n",
    "    def value(self):\n",
    "        return self._value\n",
    "    \n",
    "    @value.setter\n",
    "    def value(self, _):\n",
    "        raise ValueError(\"Cannot reassign constant\")"
   ]
  },
  {
   "cell_type": "markdown",
   "metadata": {},
   "source": [
    "#### Variables"
   ]
  },
  {
   "cell_type": "code",
   "execution_count": 34,
   "metadata": {},
   "outputs": [],
   "source": [
    "class Variable(Node):\n",
    "    \"\"\"An variable node in the computational graph. Variables are\n",
    "    automatically tracked during graph computation.\n",
    "    Args: \n",
    "        name: defaults to \"var/\"+count\n",
    "        value: a mutable value\n",
    "    \"\"\"\n",
    "    count = 0\n",
    "    def __init__(self, value, name=None):\n",
    "        _g.variables.add(self)\n",
    "        self.value = value\n",
    "        self.gradient = None\n",
    "        self.name = f\"Var/{Variable.count}\" if name is None else name\n",
    "        Variable.count += 1\n",
    "        \n",
    "    def __repr__(self):\n",
    "        return f\"Variable: name:{self.name}, value:{self.value}\""
   ]
  },
  {
   "cell_type": "markdown",
   "metadata": {},
   "source": [
    "#### Define Operators\n",
    "\n",
    "This way, we can provide addition and multiplication as dunder functions, and overload the python operators '+' and '*'."
   ]
  },
  {
   "cell_type": "code",
   "execution_count": 35,
   "metadata": {},
   "outputs": [],
   "source": [
    "class Operator(Node):\n",
    "    \"\"\"An operator node in the computational graph.\n",
    "    Args: \n",
    "        name: defaults to \"operator name/\"+count\n",
    "    \"\"\"\n",
    "    def __init__(self, name='Operator'):\n",
    "        _g.operators.add(self)\n",
    "        self.value = None\n",
    "        self.inputs = []\n",
    "        self.gradient = None\n",
    "        self.name = name\n",
    "    \n",
    "    def __repr__(self):\n",
    "        return f\"Operator: name:{self.name}\""
   ]
  },
  {
   "cell_type": "markdown",
   "metadata": {},
   "source": [
    "### Create some actual operators that do things"
   ]
  },
  {
   "cell_type": "code",
   "execution_count": 36,
   "metadata": {},
   "outputs": [],
   "source": [
    "class add(Operator):\n",
    "    count = 0\n",
    "    \"\"\"Binary addition operation.\"\"\"\n",
    "    def __init__(self, a, b, name=None):\n",
    "        super().__init__(name)\n",
    "        self.inputs=[a, b]\n",
    "        self.name = f'add/{add.count}' if name is None else name\n",
    "        add.count += 1\n",
    "        \n",
    "    def forward(self, a, b):\n",
    "        return a+b\n",
    "    \n",
    "    def backward(self, a, b, dout):\n",
    "        return dout, dout\n",
    "\n",
    "class multiply(Operator):\n",
    "    count = 0\n",
    "    \"\"\"Binary multiplication operation.\"\"\"\n",
    "    def __init__(self, a, b, name=None):\n",
    "        super().__init__(name)\n",
    "        self.inputs=[a, b]\n",
    "        self.name = f'mul/{multiply.count}' if name is None else name\n",
    "        multiply.count += 1\n",
    "        \n",
    "    def forward(self, a, b):\n",
    "        return a*b\n",
    "    \n",
    "    def backward(self, a, b, dout):\n",
    "        return dout*b, dout*a\n",
    "    \n",
    "class divide(Operator):\n",
    "    count = 0\n",
    "    \"\"\"Binary division operation.\"\"\"\n",
    "    def __init__(self, a, b, name=None):\n",
    "        super().__init__(name)\n",
    "        self.inputs=[a, b]\n",
    "        self.name = f'div/{divide.count}' if name is None else name\n",
    "        divide.count += 1\n",
    "   \n",
    "    def forward(self, a, b):\n",
    "        return a/b\n",
    "    \n",
    "    def backward(self, a, b, dout):\n",
    "        return dout/b, dout*a/np.power(b, 2)\n",
    "    \n",
    "    \n",
    "class power(Operator):\n",
    "    count = 0\n",
    "    \"\"\"Binary exponentiation operation.\"\"\"\n",
    "    def __init__(self, a, b, name=None):\n",
    "        super().__init__(name)\n",
    "        self.inputs=[a, b]\n",
    "        self.name = f'pow/{power.count}' if name is None else name\n",
    "        power.count += 1\n",
    "   \n",
    "    def forward(self, a, b):\n",
    "        return np.power(a, b)\n",
    "    \n",
    "    def backward(self, a, b, dout):\n",
    "        return dout*b*np.power(a, (b-1)), dout*np.log(a)*np.power(a, b)\n",
    "    \n",
    "class matmul(Operator):\n",
    "    count = 0\n",
    "    \"\"\"Binary multiplication operation.\"\"\"\n",
    "    def __init__(self, a, b, name=None):\n",
    "        super().__init__(name)\n",
    "        self.inputs=[a, b]\n",
    "        self.name = f'matmul/{matmul.count}' if name is None else name\n",
    "        matmul.count += 1\n",
    "        \n",
    "    def forward(self, a, b):\n",
    "        return a@b\n",
    "    \n",
    "    def backward(self, a, b, dout):\n",
    "        return dout@b.T, a.T@dout"
   ]
  },
  {
   "cell_type": "markdown",
   "metadata": {},
   "source": [
    "## For convenience, overload all of these"
   ]
  },
  {
   "cell_type": "code",
   "execution_count": 37,
   "metadata": {},
   "outputs": [],
   "source": [
    "def node_wrapper(func, self, other):\n",
    "    if isinstance(other, Node):\n",
    "        return func(self, other)\n",
    "    if isinstance(other, float) or isinstance(other, int):\n",
    "        return func(self, Constant(other))\n",
    "    raise TypeError(\"Incompatible types.\")\n",
    "\n",
    "Node.__add__ = lambda self, other: node_wrapper(add, self, other)\n",
    "Node.__mul__ = lambda self, other: node_wrapper(multiply, self, other)\n",
    "Node.__div__ = lambda self, other: node_wrapper(divide, self, other)\n",
    "Node.__neg__ = lambda self: node_wrapper(multiply, self, Constant(-1))\n",
    "Node.__pow__ = lambda self, other: node_wrapper(power, self, other)\n",
    "Node.__matmul__ = lambda self, other: node_wrapper(matmul, self, other)"
   ]
  },
  {
   "cell_type": "markdown",
   "metadata": {},
   "source": [
    "## Test it out!"
   ]
  },
  {
   "cell_type": "code",
   "execution_count": 38,
   "metadata": {},
   "outputs": [],
   "source": [
    "with Graph() as g:\n",
    "    x = Variable(1.3)\n",
    "    y = Variable(0.9)\n",
    "    z = x*y+5"
   ]
  },
  {
   "cell_type": "code",
   "execution_count": 39,
   "metadata": {},
   "outputs": [
    {
     "name": "stdout",
     "output_type": "stream",
     "text": [
      "{Constant: name:Const/0, value:5}\n",
      "{Variable: name:Var/1, value:0.9, Variable: name:Var/0, value:1.3}\n",
      "{Operator: name:add/0, Operator: name:mul/0}\n"
     ]
    }
   ],
   "source": [
    "print(g.constants)\n",
    "print(g.variables)\n",
    "print(g.operators)"
   ]
  },
  {
   "cell_type": "markdown",
   "metadata": {},
   "source": [
    "# Autograd"
   ]
  },
  {
   "cell_type": "code",
   "execution_count": 40,
   "metadata": {},
   "outputs": [],
   "source": [
    "def topological_sort(head_node=None, graph=_g):\n",
    "    \"\"\"Performs topological sort of all nodes prior to and \n",
    "    including the head_node. \n",
    "    Args:\n",
    "        graph: the computational graph. This is the global value by default\n",
    "        head_node: last node in the forward pass. The \"result\" of the graph.\n",
    "    Returns:\n",
    "        a sorted array of graph nodes.\n",
    "    \"\"\"\n",
    "    vis = set()\n",
    "    ordering = []\n",
    "    \n",
    "    def _dfs(node):\n",
    "        if node not in vis:\n",
    "            vis.add(node)\n",
    "            if isinstance(node, Operator):\n",
    "                for input_node in node.inputs:\n",
    "                    _dfs(input_node)\n",
    "            ordering.append(node)\n",
    "            \n",
    "    if head_node is None:\n",
    "        for node in graph.operators:\n",
    "            _dfs(node)\n",
    "    else:\n",
    "        _dfs(head_node)\n",
    "        \n",
    "    return ordering"
   ]
  },
  {
   "cell_type": "code",
   "execution_count": 41,
   "metadata": {},
   "outputs": [],
   "source": [
    "def forward_pass(order, feed_dict={}):\n",
    "    \"\"\" Performs the forward pass, returning the output of the graph.\n",
    "    Args:\n",
    "        order: a topologically sorted array of nodes\n",
    "        feed_dict: a dictionary values for placeholders.\n",
    "    Returns:\n",
    "        1. the final result of the forward pass.\n",
    "        2. directly edits the graph to fill in its current values.\n",
    "    \"\"\"\n",
    "    for node in order:\n",
    "        \n",
    "        if isinstance(node, Placeholder):\n",
    "            node.value = feed_dict[node.name]\n",
    "                    \n",
    "        elif isinstance(node, Operator):\n",
    "            node.value = node.forward(*[prev_node.value for prev_node in node.inputs])\n",
    "\n",
    "    return order[-1].value"
   ]
  },
  {
   "cell_type": "code",
   "execution_count": 42,
   "metadata": {},
   "outputs": [],
   "source": [
    "def backward_pass(order, target_node=None):\n",
    "    \"\"\" Perform the backward pass to retrieve gradients.\n",
    "    Args:\n",
    "        order: a topologically sorted array of graph nodes.\n",
    "               by default, this assigns the graident of the final node to 1\n",
    "    Returns:\n",
    "        gradients of nodes as listed in same order as input argument\n",
    "    \"\"\"\n",
    "    vis = set()\n",
    "    order[-1].gradient = 1\n",
    "    for node in reversed(order):\n",
    "        if isinstance(node, Operator):\n",
    "            inputs = node.inputs\n",
    "            grads = node.backward(*[x.value for x in inputs], dout=node.gradient)\n",
    "            for inp, grad in zip(inputs, grads):\n",
    "                if inp not in vis:\n",
    "                    inp.gradient = grad\n",
    "                else:\n",
    "                    inp.gradient += grad\n",
    "                vis.add(inp)\n",
    "    return [node.gradient for node in order]"
   ]
  },
  {
   "cell_type": "code",
   "execution_count": 43,
   "metadata": {},
   "outputs": [
    {
     "name": "stdout",
     "output_type": "stream",
     "text": [
      "Node ordering:\n",
      "Variable: name:x, value:0.9\n",
      "Variable: name:y, value:0.4\n",
      "Operator: name:mul/0\n",
      "Constant: name:c, value:1.3\n",
      "Operator: name:add/0\n",
      "Operator: name:mul/1\n",
      "Operator: name:add/1\n",
      "----------\n",
      "Forward pass expected: 3.0580000000000003\n",
      "Forward pass computed: 3.0580000000000003\n"
     ]
    }
   ],
   "source": [
    "val1, val2, val3 = 0.9, 0.4, 1.3\n",
    "\n",
    "with Graph() as g:\n",
    "    x = Variable(val1, name='x')\n",
    "    y = Variable(val2, name='y')\n",
    "    c = Constant(val3, name='c')\n",
    "    z = (x*y+c)*c + x\n",
    "\n",
    "    order = topological_sort(z)\n",
    "    res = forward_pass(order)\n",
    "    grads = backward_pass(order)\n",
    "\n",
    "    print(\"Node ordering:\")\n",
    "    for node in order:\n",
    "        print(node)\n",
    "\n",
    "    print('-'*10)\n",
    "    print(f\"Forward pass expected: {(val1*val2+val3)*val3+val1}\")\n",
    "    print(f\"Forward pass computed: {res}\")"
   ]
  },
  {
   "cell_type": "code",
   "execution_count": 44,
   "metadata": {},
   "outputs": [
    {
     "name": "stdout",
     "output_type": "stream",
     "text": [
      "dz/dx expected = 1.52\n",
      "dz/dx computed = 1.52\n",
      "dz/dy expected = 1.1700000000000002\n",
      "dz/dy computed = 1.1700000000000002\n",
      "dz/dc expected = 2.96\n",
      "dz/dc computed = 2.96\n"
     ]
    }
   ],
   "source": [
    "dzdx_node = [a for a in order if a.name=='x'][0]\n",
    "dzdy_node = [a for a in order if a.name=='y'][0]\n",
    "dzdc_node = [a for a in order if a.name=='c'][0]\n",
    "\n",
    "print(f\"dz/dx expected = {val3*val2+1}\")\n",
    "print(f\"dz/dx computed = {dzdx_node.gradient}\")\n",
    "\n",
    "print(f\"dz/dy expected = {val1*val3}\")\n",
    "print(f\"dz/dy computed = {dzdy_node.gradient}\")\n",
    "\n",
    "print(f\"dz/dc expected = {val1*val2+2*val3}\")\n",
    "print(f\"dz/dc computed = {dzdc_node.gradient}\")"
   ]
  },
  {
   "cell_type": "code",
   "execution_count": null,
   "metadata": {},
   "outputs": [],
   "source": []
  },
  {
   "cell_type": "code",
   "execution_count": 45,
   "metadata": {},
   "outputs": [],
   "source": [
    "from graphviz import Digraph\n",
    "\n",
    "def make_graph(graph):\n",
    "    \"\"\"Allows us to visualize the computation graph directly in a Jupyter notebook.\n",
    "    must have graphviz module installed. Takes as input the topological sorted ordering\n",
    "    after calling the Session class\"\"\"\n",
    "    f = Digraph()\n",
    "    f.attr(rankdir='LR', size='10, 8')\n",
    "    f.attr('node', shape='circle')\n",
    "    for node in graph:\n",
    "        shape = 'box' if isinstance(node, Placeholder) else 'circle'\n",
    "        f.node(node.name, label=node.name.split('/')[0], shape=shape)\n",
    "    for node in graph:\n",
    "        if isinstance(node, Operator):\n",
    "            for e in node.inputs:\n",
    "                f.edge(e.name, node.name, label=e.name)\n",
    "    return f"
   ]
  },
  {
   "cell_type": "markdown",
   "metadata": {},
   "source": [
    "### Here's the slightly more complicated graph towards the end of the article"
   ]
  },
  {
   "cell_type": "code",
   "execution_count": 46,
   "metadata": {},
   "outputs": [
    {
     "data": {
      "text/plain": [
       "[Variable: name:x, value:0.9,\n",
       " Variable: name:y, value:0.4,\n",
       " Operator: name:mul/0,\n",
       " Constant: name:c, value:1.3,\n",
       " Operator: name:add/0,\n",
       " Operator: name:mul/1,\n",
       " Operator: name:add/1]"
      ]
     },
     "execution_count": 46,
     "metadata": {},
     "output_type": "execute_result"
    }
   ],
   "source": [
    "order"
   ]
  },
  {
   "cell_type": "code",
   "execution_count": 47,
   "metadata": {},
   "outputs": [
    {
     "data": {
      "image/svg+xml": "<?xml version=\"1.0\" encoding=\"UTF-8\" standalone=\"no\"?>\n<!DOCTYPE svg PUBLIC \"-//W3C//DTD SVG 1.1//EN\"\n \"http://www.w3.org/Graphics/SVG/1.1/DTD/svg11.dtd\">\n<!-- Generated by graphviz version 2.46.0 (20210118.1747)\n -->\n<!-- Pages: 1 -->\n<svg width=\"484pt\" height=\"155pt\"\n viewBox=\"0.00 0.00 484.38 155.00\" xmlns=\"http://www.w3.org/2000/svg\" xmlns:xlink=\"http://www.w3.org/1999/xlink\">\n<g id=\"graph0\" class=\"graph\" transform=\"scale(1 1) rotate(0) translate(4 151)\">\n<polygon fill=\"white\" stroke=\"transparent\" points=\"-4,4 -4,-151 480.38,-151 480.38,4 -4,4\"/>\n<!-- x -->\n<g id=\"node1\" class=\"node\">\n<title>x</title>\n<ellipse fill=\"none\" stroke=\"black\" cx=\"18\" cy=\"-125\" rx=\"18\" ry=\"18\"/>\n<text text-anchor=\"middle\" x=\"18\" y=\"-121.3\" font-family=\"Times,serif\" font-size=\"14.00\">x</text>\n</g>\n<!-- mul/0 -->\n<g id=\"node3\" class=\"node\">\n<title>mul/0</title>\n<ellipse fill=\"none\" stroke=\"black\" cx=\"103.7\" cy=\"-79\" rx=\"24.9\" ry=\"24.9\"/>\n<text text-anchor=\"middle\" x=\"103.7\" y=\"-75.3\" font-family=\"Times,serif\" font-size=\"14.00\">mul</text>\n</g>\n<!-- x&#45;&gt;mul/0 -->\n<g id=\"edge1\" class=\"edge\">\n<title>x&#45;&gt;mul/0</title>\n<path fill=\"none\" stroke=\"black\" d=\"M33.44,-115.45C39.68,-111.45 47.11,-106.85 54,-103 59.72,-99.8 65.93,-96.57 71.94,-93.56\"/>\n<polygon fill=\"black\" stroke=\"black\" points=\"73.69,-96.6 81.12,-89.04 70.6,-90.32 73.69,-96.6\"/>\n<text text-anchor=\"middle\" x=\"57.5\" y=\"-106.8\" font-family=\"Times,serif\" font-size=\"14.00\">x</text>\n</g>\n<!-- add/1 -->\n<g id=\"node7\" class=\"node\">\n<title>add/1</title>\n<ellipse fill=\"none\" stroke=\"black\" cx=\"452.99\" cy=\"-103\" rx=\"23.3\" ry=\"23.3\"/>\n<text text-anchor=\"middle\" x=\"452.99\" y=\"-99.3\" font-family=\"Times,serif\" font-size=\"14.00\">add</text>\n</g>\n<!-- x&#45;&gt;add/1 -->\n<g id=\"edge8\" class=\"edge\">\n<title>x&#45;&gt;add/1</title>\n<path fill=\"none\" stroke=\"black\" d=\"M35.96,-127.25C52.84,-129.3 79.51,-132 102.7,-132 102.7,-132 102.7,-132 336.89,-132 366.33,-132 398.75,-122.97 421.66,-114.99\"/>\n<polygon fill=\"black\" stroke=\"black\" points=\"422.96,-118.24 431.17,-111.54 420.57,-111.66 422.96,-118.24\"/>\n<text text-anchor=\"middle\" x=\"220.79\" y=\"-135.8\" font-family=\"Times,serif\" font-size=\"14.00\">x</text>\n</g>\n<!-- y -->\n<g id=\"node2\" class=\"node\">\n<title>y</title>\n<ellipse fill=\"none\" stroke=\"black\" cx=\"18\" cy=\"-64\" rx=\"18\" ry=\"18\"/>\n<text text-anchor=\"middle\" x=\"18\" y=\"-60.3\" font-family=\"Times,serif\" font-size=\"14.00\">y</text>\n</g>\n<!-- y&#45;&gt;mul/0 -->\n<g id=\"edge2\" class=\"edge\">\n<title>y&#45;&gt;mul/0</title>\n<path fill=\"none\" stroke=\"black\" d=\"M36.28,-63.25C43.91,-63.22 52.95,-63.59 61,-65 64.23,-65.57 67.56,-66.34 70.85,-67.23\"/>\n<polygon fill=\"black\" stroke=\"black\" points=\"69.93,-70.61 80.51,-70.18 71.97,-63.91 69.93,-70.61\"/>\n<text text-anchor=\"middle\" x=\"57.5\" y=\"-68.8\" font-family=\"Times,serif\" font-size=\"14.00\">y</text>\n</g>\n<!-- add/0 -->\n<g id=\"node5\" class=\"node\">\n<title>add/0</title>\n<ellipse fill=\"none\" stroke=\"black\" cx=\"220.79\" cy=\"-71\" rx=\"23.3\" ry=\"23.3\"/>\n<text text-anchor=\"middle\" x=\"220.79\" y=\"-67.3\" font-family=\"Times,serif\" font-size=\"14.00\">add</text>\n</g>\n<!-- mul/0&#45;&gt;add/0 -->\n<g id=\"edge3\" class=\"edge\">\n<title>mul/0&#45;&gt;add/0</title>\n<path fill=\"none\" stroke=\"black\" d=\"M128.55,-77.34C145.47,-76.17 168.39,-74.57 187.03,-73.28\"/>\n<polygon fill=\"black\" stroke=\"black\" points=\"187.42,-76.76 197.15,-72.57 186.93,-69.78 187.42,-76.76\"/>\n<text text-anchor=\"middle\" x=\"162.9\" y=\"-78.8\" font-family=\"Times,serif\" font-size=\"14.00\">mul/0</text>\n</g>\n<!-- c -->\n<g id=\"node4\" class=\"node\">\n<title>c</title>\n<ellipse fill=\"none\" stroke=\"black\" cx=\"103.7\" cy=\"-18\" rx=\"18\" ry=\"18\"/>\n<text text-anchor=\"middle\" x=\"103.7\" y=\"-14.3\" font-family=\"Times,serif\" font-size=\"14.00\">c</text>\n</g>\n<!-- c&#45;&gt;add/0 -->\n<g id=\"edge4\" class=\"edge\">\n<title>c&#45;&gt;add/0</title>\n<path fill=\"none\" stroke=\"black\" d=\"M120.22,-25.15C137.97,-33.32 167.43,-46.89 189.72,-57.15\"/>\n<polygon fill=\"black\" stroke=\"black\" points=\"188.53,-60.46 199.08,-61.46 191.46,-54.1 188.53,-60.46\"/>\n<text text-anchor=\"middle\" x=\"162.9\" y=\"-56.8\" font-family=\"Times,serif\" font-size=\"14.00\">c</text>\n</g>\n<!-- mul/1 -->\n<g id=\"node6\" class=\"node\">\n<title>mul/1</title>\n<ellipse fill=\"none\" stroke=\"black\" cx=\"335.89\" cy=\"-71\" rx=\"24.9\" ry=\"24.9\"/>\n<text text-anchor=\"middle\" x=\"335.89\" y=\"-67.3\" font-family=\"Times,serif\" font-size=\"14.00\">mul</text>\n</g>\n<!-- c&#45;&gt;mul/1 -->\n<g id=\"edge6\" class=\"edge\">\n<title>c&#45;&gt;mul/1</title>\n<path fill=\"none\" stroke=\"black\" d=\"M121.8,-16.4C148.47,-14.42 201.33,-12.57 244.19,-24 266.17,-29.86 288.89,-41.64 306.09,-51.95\"/>\n<polygon fill=\"black\" stroke=\"black\" points=\"304.69,-55.2 315.04,-57.47 308.37,-49.24 304.69,-55.2\"/>\n<text text-anchor=\"middle\" x=\"220.79\" y=\"-27.8\" font-family=\"Times,serif\" font-size=\"14.00\">c</text>\n</g>\n<!-- add/0&#45;&gt;mul/1 -->\n<g id=\"edge5\" class=\"edge\">\n<title>add/0&#45;&gt;mul/1</title>\n<path fill=\"none\" stroke=\"black\" d=\"M244.41,-71C260.57,-71 282.61,-71 300.89,-71\"/>\n<polygon fill=\"black\" stroke=\"black\" points=\"301.14,-74.5 311.14,-71 301.14,-67.5 301.14,-74.5\"/>\n<text text-anchor=\"middle\" x=\"277.69\" y=\"-74.8\" font-family=\"Times,serif\" font-size=\"14.00\">add/0</text>\n</g>\n<!-- mul/1&#45;&gt;add/1 -->\n<g id=\"edge7\" class=\"edge\">\n<title>mul/1&#45;&gt;add/1</title>\n<path fill=\"none\" stroke=\"black\" d=\"M359.9,-77.4C377.25,-82.22 401.25,-88.89 420.39,-94.22\"/>\n<polygon fill=\"black\" stroke=\"black\" points=\"419.61,-97.63 430.18,-96.94 421.48,-90.89 419.61,-97.63\"/>\n<text text-anchor=\"middle\" x=\"395.09\" y=\"-94.8\" font-family=\"Times,serif\" font-size=\"14.00\">mul/1</text>\n</g>\n</g>\n</svg>\n",
      "text/plain": [
       "<graphviz.dot.Digraph at 0x7fe0ebc70d30>"
      ]
     },
     "execution_count": 47,
     "metadata": {},
     "output_type": "execute_result"
    }
   ],
   "source": [
    "my_graph = make_graph(order)\n",
    "my_graph"
   ]
  },
  {
   "cell_type": "markdown",
   "metadata": {},
   "source": [
    "### Here's the simple graph at the start of the article"
   ]
  },
  {
   "cell_type": "code",
   "execution_count": 48,
   "metadata": {},
   "outputs": [],
   "source": [
    "with Graph() as g:\n",
    "    x = Variable(1., name='x')\n",
    "    y = Variable(2., name='y')\n",
    "    z = Variable(3., name='z')\n",
    "    loss = x*y+z"
   ]
  },
  {
   "cell_type": "code",
   "execution_count": 49,
   "metadata": {},
   "outputs": [],
   "source": [
    "ordering = topological_sort(loss)"
   ]
  },
  {
   "cell_type": "code",
   "execution_count": 50,
   "metadata": {},
   "outputs": [
    {
     "data": {
      "image/svg+xml": "<?xml version=\"1.0\" encoding=\"UTF-8\" standalone=\"no\"?>\n<!DOCTYPE svg PUBLIC \"-//W3C//DTD SVG 1.1//EN\"\n \"http://www.w3.org/Graphics/SVG/1.1/DTD/svg11.dtd\">\n<!-- Generated by graphviz version 2.46.0 (20210118.1747)\n -->\n<!-- Pages: 1 -->\n<svg width=\"252pt\" height=\"132pt\"\n viewBox=\"0.00 0.00 252.19 132.00\" xmlns=\"http://www.w3.org/2000/svg\" xmlns:xlink=\"http://www.w3.org/1999/xlink\">\n<g id=\"graph0\" class=\"graph\" transform=\"scale(1 1) rotate(0) translate(4 128)\">\n<polygon fill=\"white\" stroke=\"transparent\" points=\"-4,4 -4,-128 248.19,-128 248.19,4 -4,4\"/>\n<!-- x -->\n<g id=\"node1\" class=\"node\">\n<title>x</title>\n<ellipse fill=\"none\" stroke=\"black\" cx=\"18\" cy=\"-106\" rx=\"18\" ry=\"18\"/>\n<text text-anchor=\"middle\" x=\"18\" y=\"-102.3\" font-family=\"Times,serif\" font-size=\"14.00\">x</text>\n</g>\n<!-- mul/0 -->\n<g id=\"node3\" class=\"node\">\n<title>mul/0</title>\n<ellipse fill=\"none\" stroke=\"black\" cx=\"103.7\" cy=\"-79\" rx=\"24.9\" ry=\"24.9\"/>\n<text text-anchor=\"middle\" x=\"103.7\" y=\"-75.3\" font-family=\"Times,serif\" font-size=\"14.00\">mul</text>\n</g>\n<!-- x&#45;&gt;mul/0 -->\n<g id=\"edge1\" class=\"edge\">\n<title>x&#45;&gt;mul/0</title>\n<path fill=\"none\" stroke=\"black\" d=\"M35.54,-100.67C45.44,-97.47 58.36,-93.3 70.23,-89.47\"/>\n<polygon fill=\"black\" stroke=\"black\" points=\"71.42,-92.77 79.86,-86.37 69.27,-86.11 71.42,-92.77\"/>\n<text text-anchor=\"middle\" x=\"57.5\" y=\"-97.8\" font-family=\"Times,serif\" font-size=\"14.00\">x</text>\n</g>\n<!-- y -->\n<g id=\"node2\" class=\"node\">\n<title>y</title>\n<ellipse fill=\"none\" stroke=\"black\" cx=\"18\" cy=\"-52\" rx=\"18\" ry=\"18\"/>\n<text text-anchor=\"middle\" x=\"18\" y=\"-48.3\" font-family=\"Times,serif\" font-size=\"14.00\">y</text>\n</g>\n<!-- y&#45;&gt;mul/0 -->\n<g id=\"edge2\" class=\"edge\">\n<title>y&#45;&gt;mul/0</title>\n<path fill=\"none\" stroke=\"black\" d=\"M35.54,-57.33C45.44,-60.53 58.36,-64.7 70.23,-68.53\"/>\n<polygon fill=\"black\" stroke=\"black\" points=\"69.27,-71.89 79.86,-71.63 71.42,-65.23 69.27,-71.89\"/>\n<text text-anchor=\"middle\" x=\"57.5\" y=\"-68.8\" font-family=\"Times,serif\" font-size=\"14.00\">y</text>\n</g>\n<!-- add/0 -->\n<g id=\"node5\" class=\"node\">\n<title>add/0</title>\n<ellipse fill=\"none\" stroke=\"black\" cx=\"220.79\" cy=\"-37\" rx=\"23.3\" ry=\"23.3\"/>\n<text text-anchor=\"middle\" x=\"220.79\" y=\"-33.3\" font-family=\"Times,serif\" font-size=\"14.00\">add</text>\n</g>\n<!-- mul/0&#45;&gt;add/0 -->\n<g id=\"edge3\" class=\"edge\">\n<title>mul/0&#45;&gt;add/0</title>\n<path fill=\"none\" stroke=\"black\" d=\"M127.16,-70.8C144.77,-64.38 169.45,-55.37 188.92,-48.27\"/>\n<polygon fill=\"black\" stroke=\"black\" points=\"190.36,-51.47 198.55,-44.75 187.96,-44.89 190.36,-51.47\"/>\n<text text-anchor=\"middle\" x=\"162.9\" y=\"-65.8\" font-family=\"Times,serif\" font-size=\"14.00\">mul/0</text>\n</g>\n<!-- z -->\n<g id=\"node4\" class=\"node\">\n<title>z</title>\n<ellipse fill=\"none\" stroke=\"black\" cx=\"103.7\" cy=\"-18\" rx=\"18\" ry=\"18\"/>\n<text text-anchor=\"middle\" x=\"103.7\" y=\"-14.3\" font-family=\"Times,serif\" font-size=\"14.00\">z</text>\n</g>\n<!-- z&#45;&gt;add/0 -->\n<g id=\"edge4\" class=\"edge\">\n<title>z&#45;&gt;add/0</title>\n<path fill=\"none\" stroke=\"black\" d=\"M121.62,-20.66C136.76,-23.05 159.57,-26.69 179.4,-30 182.07,-30.45 184.84,-30.91 187.62,-31.39\"/>\n<polygon fill=\"black\" stroke=\"black\" points=\"187.13,-34.86 197.58,-33.1 188.31,-27.96 187.13,-34.86\"/>\n<text text-anchor=\"middle\" x=\"162.9\" y=\"-33.8\" font-family=\"Times,serif\" font-size=\"14.00\">z</text>\n</g>\n</g>\n</svg>\n",
      "text/plain": [
       "<graphviz.dot.Digraph at 0x7fe0ebcf09a0>"
      ]
     },
     "execution_count": 50,
     "metadata": {},
     "output_type": "execute_result"
    }
   ],
   "source": [
    "my_graph = make_graph(ordering)\n",
    "my_graph"
   ]
  }
 ],
 "metadata": {
  "kernelspec": {
   "display_name": "Python 3",
   "language": "python",
   "name": "python3"
  },
  "language_info": {
   "codemirror_mode": {
    "name": "ipython",
    "version": 3
   },
   "file_extension": ".py",
   "mimetype": "text/x-python",
   "name": "python",
   "nbconvert_exporter": "python",
   "pygments_lexer": "ipython3",
   "version": "3.8.3"
  }
 },
 "nbformat": 4,
 "nbformat_minor": 4
}
